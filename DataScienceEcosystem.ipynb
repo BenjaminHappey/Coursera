{
 "cells": [
  {
   "cell_type": "markdown",
   "id": "cd8ee04c-71fc-42df-9b8d-5be25b2f9243",
   "metadata": {},
   "source": [
    "# Data Science Tools"
   ]
  },
  {
   "cell_type": "markdown",
   "id": "e7b78b6c-4574-45ce-8cd4-dd2db6c87c93",
   "metadata": {},
   "source": [
    "In this notebook, Data Science Tools and Ecosystem are summarized"
   ]
  },
  {
   "cell_type": "markdown",
   "id": "dbb39f94-aa51-4882-b7ae-538372d00407",
   "metadata": {},
   "source": [
    "**Objectives:**\n",
    "- List popular languages for Data Science\n",
    "- List most commonly used libraries in Data Science\n",
    "- Create a table with three Data Science Tools\n",
    "- Code a simple arithmetic expression\n",
    "- Code a convertion from minutes to hours"
   ]
  },
  {
   "cell_type": "markdown",
   "id": "93246e05-885a-4e01-bbda-6fba31bce46d",
   "metadata": {},
   "source": [
    "Some of the popular languages that Data Scientists use are:\n",
    "\n",
    "  1. Python\n",
    "  2. R\n",
    "  3. Julia\n",
    "  4. C\n",
    "  5. SQL"
   ]
  },
  {
   "cell_type": "markdown",
   "id": "5abcaafc-015b-40d1-8be4-4c3e35f47fcd",
   "metadata": {},
   "source": [
    "Some of the commonly used libraries used by Data Scientists include:\n",
    "\n",
    "1. Pandas\n",
    "2. Numpy\n",
    "3. MatplotLIB\n",
    "4. Scikit Learn\n",
    "5. TensorFlow\n",
    "6. Seaborn"
   ]
  },
  {
   "cell_type": "markdown",
   "id": "d503ec5c-703d-4ded-a628-a816ec8a5e7d",
   "metadata": {},
   "source": [
    "|Data Science Tools|\n",
    "-------------------\n",
    "| JupyterLab |\n",
    "| RStudio |\n",
    "| Apache Zeppelin |"
   ]
  },
  {
   "cell_type": "markdown",
   "id": "d7105f7a-12b3-43a7-a7e9-e8eabe568ed5",
   "metadata": {},
   "source": [
    "### Below are a few examples of evaluating arithmetic expressions in Python."
   ]
  },
  {
   "cell_type": "code",
   "execution_count": 2,
   "id": "e87a17c1-106c-405c-8f7f-073937829cc8",
   "metadata": {
    "tags": []
   },
   "outputs": [
    {
     "data": {
      "text/plain": [
       "17"
      ]
     },
     "execution_count": 2,
     "metadata": {},
     "output_type": "execute_result"
    }
   ],
   "source": [
    "#This is a simple arithmetic expression to multiply then add integers\n",
    "(3*4)+5"
   ]
  },
  {
   "cell_type": "code",
   "execution_count": 3,
   "id": "cd036cd3-7137-4f70-971c-95ba9d937cd5",
   "metadata": {
    "tags": []
   },
   "outputs": [
    {
     "data": {
      "text/plain": [
       "3.3333333333333335"
      ]
     },
     "execution_count": 3,
     "metadata": {},
     "output_type": "execute_result"
    }
   ],
   "source": [
    "#This will convert 200 minutes to hours by diving by 60.\n",
    "200/60"
   ]
  },
  {
   "cell_type": "markdown",
   "id": "3e3e27e2-06aa-4c30-a9c6-4e8415794c81",
   "metadata": {},
   "source": [
    "## Author\n",
    "Benjamin Happey White"
   ]
  }
 ],
 "metadata": {
  "kernelspec": {
   "display_name": "Python",
   "language": "python",
   "name": "conda-env-python-py"
  },
  "language_info": {
   "codemirror_mode": {
    "name": "ipython",
    "version": 3
   },
   "file_extension": ".py",
   "mimetype": "text/x-python",
   "name": "python",
   "nbconvert_exporter": "python",
   "pygments_lexer": "ipython3",
   "version": "3.7.12"
  }
 },
 "nbformat": 4,
 "nbformat_minor": 5
}
